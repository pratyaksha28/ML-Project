{
  "nbformat": 4,
  "nbformat_minor": 0,
  "metadata": {
    "colab": {
      "name": "AQ.ipynb",
      "provenance": [],
      "collapsed_sections": []
    },
    "kernelspec": {
      "name": "python3",
      "display_name": "Python 3"
    },
    "language_info": {
      "name": "python"
    }
  },
  "cells": [
    {
      "cell_type": "code",
      "metadata": {
        "id": "6FJaksKa-oDf",
        "colab": {
          "base_uri": "https://localhost:8080/",
          "height": 807
        },
        "outputId": "bafaf87f-e7df-412a-de27-3091d50ce943"
      },
      "source": [
        "from google.colab import drive\n",
        "import pandas as pd\n",
        "import datetime as dt\n",
        "from statsmodels.graphics.tsaplots import plot_acf\n",
        "from statsmodels.tsa.seasonal import seasonal_decompose\n",
        "import matplotlib.pyplot as plt\n",
        "from sklearn.svm import SVR\n",
        "import numpy as np\n",
        "from sklearn.metrics import mean_squared_error, mean_absolute_error\n",
        "from keras.models import Sequential\n",
        "from keras.layers import Dense\n",
        "from keras.layers import LSTM\n",
        "from sklearn.model_selection import GridSearchCV\n",
        "\n",
        "drive.mount('/content/drive')\n",
        "\n",
        "data = pd.read_excel('/content/drive/MyDrive/TS/AirQualityUCI.xlsx' ,parse_dates=[['Date', 'Time']])\n",
        "data"
      ],
      "execution_count": 36,
      "outputs": [
        {
          "output_type": "stream",
          "text": [
            "Drive already mounted at /content/drive; to attempt to forcibly remount, call drive.mount(\"/content/drive\", force_remount=True).\n"
          ],
          "name": "stdout"
        },
        {
          "output_type": "execute_result",
          "data": {
            "text/html": [
              "<div>\n",
              "<style scoped>\n",
              "    .dataframe tbody tr th:only-of-type {\n",
              "        vertical-align: middle;\n",
              "    }\n",
              "\n",
              "    .dataframe tbody tr th {\n",
              "        vertical-align: top;\n",
              "    }\n",
              "\n",
              "    .dataframe thead th {\n",
              "        text-align: right;\n",
              "    }\n",
              "</style>\n",
              "<table border=\"1\" class=\"dataframe\">\n",
              "  <thead>\n",
              "    <tr style=\"text-align: right;\">\n",
              "      <th></th>\n",
              "      <th>Date_Time</th>\n",
              "      <th>CO(GT)</th>\n",
              "      <th>PT08.S1(CO)</th>\n",
              "      <th>NMHC(GT)</th>\n",
              "      <th>C6H6(GT)</th>\n",
              "      <th>PT08.S2(NMHC)</th>\n",
              "      <th>NOx(GT)</th>\n",
              "      <th>PT08.S3(NOx)</th>\n",
              "      <th>NO2(GT)</th>\n",
              "      <th>PT08.S4(NO2)</th>\n",
              "      <th>PT08.S5(O3)</th>\n",
              "      <th>T</th>\n",
              "      <th>RH</th>\n",
              "      <th>AH</th>\n",
              "    </tr>\n",
              "  </thead>\n",
              "  <tbody>\n",
              "    <tr>\n",
              "      <th>0</th>\n",
              "      <td>2004-03-10 18:00:00</td>\n",
              "      <td>2.6</td>\n",
              "      <td>1360.00</td>\n",
              "      <td>150</td>\n",
              "      <td>11.881723</td>\n",
              "      <td>1045.50</td>\n",
              "      <td>166.0</td>\n",
              "      <td>1056.25</td>\n",
              "      <td>113.0</td>\n",
              "      <td>1692.00</td>\n",
              "      <td>1267.50</td>\n",
              "      <td>13.600</td>\n",
              "      <td>48.875001</td>\n",
              "      <td>0.757754</td>\n",
              "    </tr>\n",
              "    <tr>\n",
              "      <th>1</th>\n",
              "      <td>2004-03-10 19:00:00</td>\n",
              "      <td>2.0</td>\n",
              "      <td>1292.25</td>\n",
              "      <td>112</td>\n",
              "      <td>9.397165</td>\n",
              "      <td>954.75</td>\n",
              "      <td>103.0</td>\n",
              "      <td>1173.75</td>\n",
              "      <td>92.0</td>\n",
              "      <td>1558.75</td>\n",
              "      <td>972.25</td>\n",
              "      <td>13.300</td>\n",
              "      <td>47.700000</td>\n",
              "      <td>0.725487</td>\n",
              "    </tr>\n",
              "    <tr>\n",
              "      <th>2</th>\n",
              "      <td>2004-03-10 20:00:00</td>\n",
              "      <td>2.2</td>\n",
              "      <td>1402.00</td>\n",
              "      <td>88</td>\n",
              "      <td>8.997817</td>\n",
              "      <td>939.25</td>\n",
              "      <td>131.0</td>\n",
              "      <td>1140.00</td>\n",
              "      <td>114.0</td>\n",
              "      <td>1554.50</td>\n",
              "      <td>1074.00</td>\n",
              "      <td>11.900</td>\n",
              "      <td>53.975000</td>\n",
              "      <td>0.750239</td>\n",
              "    </tr>\n",
              "    <tr>\n",
              "      <th>3</th>\n",
              "      <td>2004-03-10 21:00:00</td>\n",
              "      <td>2.2</td>\n",
              "      <td>1375.50</td>\n",
              "      <td>80</td>\n",
              "      <td>9.228796</td>\n",
              "      <td>948.25</td>\n",
              "      <td>172.0</td>\n",
              "      <td>1092.00</td>\n",
              "      <td>122.0</td>\n",
              "      <td>1583.75</td>\n",
              "      <td>1203.25</td>\n",
              "      <td>11.000</td>\n",
              "      <td>60.000000</td>\n",
              "      <td>0.786713</td>\n",
              "    </tr>\n",
              "    <tr>\n",
              "      <th>4</th>\n",
              "      <td>2004-03-10 22:00:00</td>\n",
              "      <td>1.6</td>\n",
              "      <td>1272.25</td>\n",
              "      <td>51</td>\n",
              "      <td>6.518224</td>\n",
              "      <td>835.50</td>\n",
              "      <td>131.0</td>\n",
              "      <td>1205.00</td>\n",
              "      <td>116.0</td>\n",
              "      <td>1490.00</td>\n",
              "      <td>1110.00</td>\n",
              "      <td>11.150</td>\n",
              "      <td>59.575001</td>\n",
              "      <td>0.788794</td>\n",
              "    </tr>\n",
              "    <tr>\n",
              "      <th>...</th>\n",
              "      <td>...</td>\n",
              "      <td>...</td>\n",
              "      <td>...</td>\n",
              "      <td>...</td>\n",
              "      <td>...</td>\n",
              "      <td>...</td>\n",
              "      <td>...</td>\n",
              "      <td>...</td>\n",
              "      <td>...</td>\n",
              "      <td>...</td>\n",
              "      <td>...</td>\n",
              "      <td>...</td>\n",
              "      <td>...</td>\n",
              "      <td>...</td>\n",
              "    </tr>\n",
              "    <tr>\n",
              "      <th>9352</th>\n",
              "      <td>2005-04-04 10:00:00</td>\n",
              "      <td>3.1</td>\n",
              "      <td>1314.25</td>\n",
              "      <td>-200</td>\n",
              "      <td>13.529605</td>\n",
              "      <td>1101.25</td>\n",
              "      <td>471.7</td>\n",
              "      <td>538.50</td>\n",
              "      <td>189.8</td>\n",
              "      <td>1374.25</td>\n",
              "      <td>1728.50</td>\n",
              "      <td>21.850</td>\n",
              "      <td>29.250000</td>\n",
              "      <td>0.756824</td>\n",
              "    </tr>\n",
              "    <tr>\n",
              "      <th>9353</th>\n",
              "      <td>2005-04-04 11:00:00</td>\n",
              "      <td>2.4</td>\n",
              "      <td>1162.50</td>\n",
              "      <td>-200</td>\n",
              "      <td>11.355157</td>\n",
              "      <td>1027.00</td>\n",
              "      <td>353.3</td>\n",
              "      <td>603.75</td>\n",
              "      <td>179.2</td>\n",
              "      <td>1263.50</td>\n",
              "      <td>1269.00</td>\n",
              "      <td>24.325</td>\n",
              "      <td>23.725000</td>\n",
              "      <td>0.711864</td>\n",
              "    </tr>\n",
              "    <tr>\n",
              "      <th>9354</th>\n",
              "      <td>2005-04-04 12:00:00</td>\n",
              "      <td>2.4</td>\n",
              "      <td>1142.00</td>\n",
              "      <td>-200</td>\n",
              "      <td>12.374538</td>\n",
              "      <td>1062.50</td>\n",
              "      <td>293.0</td>\n",
              "      <td>603.25</td>\n",
              "      <td>174.7</td>\n",
              "      <td>1240.75</td>\n",
              "      <td>1092.00</td>\n",
              "      <td>26.900</td>\n",
              "      <td>18.350000</td>\n",
              "      <td>0.640649</td>\n",
              "    </tr>\n",
              "    <tr>\n",
              "      <th>9355</th>\n",
              "      <td>2005-04-04 13:00:00</td>\n",
              "      <td>2.1</td>\n",
              "      <td>1002.50</td>\n",
              "      <td>-200</td>\n",
              "      <td>9.547187</td>\n",
              "      <td>960.50</td>\n",
              "      <td>234.5</td>\n",
              "      <td>701.50</td>\n",
              "      <td>155.7</td>\n",
              "      <td>1041.00</td>\n",
              "      <td>769.75</td>\n",
              "      <td>28.325</td>\n",
              "      <td>13.550000</td>\n",
              "      <td>0.513866</td>\n",
              "    </tr>\n",
              "    <tr>\n",
              "      <th>9356</th>\n",
              "      <td>2005-04-04 14:00:00</td>\n",
              "      <td>2.2</td>\n",
              "      <td>1070.75</td>\n",
              "      <td>-200</td>\n",
              "      <td>11.932060</td>\n",
              "      <td>1047.25</td>\n",
              "      <td>265.2</td>\n",
              "      <td>654.00</td>\n",
              "      <td>167.7</td>\n",
              "      <td>1128.50</td>\n",
              "      <td>816.00</td>\n",
              "      <td>28.500</td>\n",
              "      <td>13.125000</td>\n",
              "      <td>0.502804</td>\n",
              "    </tr>\n",
              "  </tbody>\n",
              "</table>\n",
              "<p>9357 rows × 14 columns</p>\n",
              "</div>"
            ],
            "text/plain": [
              "               Date_Time  CO(GT)  PT08.S1(CO)  ...       T         RH        AH\n",
              "0    2004-03-10 18:00:00     2.6      1360.00  ...  13.600  48.875001  0.757754\n",
              "1    2004-03-10 19:00:00     2.0      1292.25  ...  13.300  47.700000  0.725487\n",
              "2    2004-03-10 20:00:00     2.2      1402.00  ...  11.900  53.975000  0.750239\n",
              "3    2004-03-10 21:00:00     2.2      1375.50  ...  11.000  60.000000  0.786713\n",
              "4    2004-03-10 22:00:00     1.6      1272.25  ...  11.150  59.575001  0.788794\n",
              "...                  ...     ...          ...  ...     ...        ...       ...\n",
              "9352 2005-04-04 10:00:00     3.1      1314.25  ...  21.850  29.250000  0.756824\n",
              "9353 2005-04-04 11:00:00     2.4      1162.50  ...  24.325  23.725000  0.711864\n",
              "9354 2005-04-04 12:00:00     2.4      1142.00  ...  26.900  18.350000  0.640649\n",
              "9355 2005-04-04 13:00:00     2.1      1002.50  ...  28.325  13.550000  0.513866\n",
              "9356 2005-04-04 14:00:00     2.2      1070.75  ...  28.500  13.125000  0.502804\n",
              "\n",
              "[9357 rows x 14 columns]"
            ]
          },
          "metadata": {
            "tags": []
          },
          "execution_count": 36
        }
      ]
    },
    {
      "cell_type": "code",
      "metadata": {
        "id": "NLsSGV2WAvsT"
      },
      "source": [
        "plt.plot(data['T'])\n",
        "plt.xlim([0,4000])\n"
      ],
      "execution_count": null,
      "outputs": []
    },
    {
      "cell_type": "code",
      "metadata": {
        "id": "EEH1hRizBOR6"
      },
      "source": [
        "x = data[['Date_Time','T']]\n",
        "x = x.set_index('Date_Time')\n",
        "result = seasonal_decompose(x , model='additive'  )\n",
        "result.plot()\n",
        "plt.show()"
      ],
      "execution_count": null,
      "outputs": []
    },
    {
      "cell_type": "code",
      "metadata": {
        "colab": {
          "base_uri": "https://localhost:8080/",
          "height": 281
        },
        "id": "raD4abT8uyD6",
        "outputId": "b8f6e807-0230-42e1-9402-d45671f66a78"
      },
      "source": [
        "plot_acf(result.seasonal , lags = 100)\n",
        "plt.show()"
      ],
      "execution_count": 78,
      "outputs": [
        {
          "output_type": "display_data",
          "data": {
            "image/png": "[encoded data removed]",
            "text/plain": [
              "<Figure size 432x288 with 1 Axes>"
            ]
          },
          "metadata": {
            "tags": [],
            "needs_background": "light"
          }
        }
      ]
    },
    {
      "cell_type": "code",
      "metadata": {
        "colab": {
          "base_uri": "https://localhost:8080/",
          "height": 281
        },
        "id": "1W2a89kBu0gt",
        "outputId": "4b769423-260d-4b0a-a807-7eeae254900c"
      },
      "source": [
        "plot_acf(result.trend[20:8200], lags = 120)\n",
        "plt.show()"
      ],
      "execution_count": 5,
      "outputs": [
        {
          "output_type": "display_data",
          "data": {
            "image/png": "[encoded data removed]",
            "text/plain": [
              "<Figure size 432x288 with 1 Axes>"
            ]
          },
          "metadata": {
            "tags": [],
            "needs_background": "light"
          }
        }
      ]
    },
    {
      "cell_type": "code",
      "metadata": {
        "colab": {
          "base_uri": "https://localhost:8080/",
          "height": 281
        },
        "id": "fogweNhBe5c7",
        "outputId": "d98d18ca-1938-42e3-ad16-77bd22ab7b3e"
      },
      "source": [
        "### ACF of observed Data\n",
        "plot_acf(result.observed[20:8200], lags = 60)\n",
        "plt.show()"
      ],
      "execution_count": 99,
      "outputs": [
        {
          "output_type": "display_data",
          "data": {
            "image/png": "[encoded data removed]",
            "text/plain": [
              "<Figure size 432x288 with 1 Axes>"
            ]
          },
          "metadata": {
            "tags": [],
            "needs_background": "light"
          }
        }
      ]
    },
    {
      "cell_type": "code",
      "metadata": {
        "colab": {
          "base_uri": "https://localhost:8080/",
          "height": 281
        },
        "id": "LPmPoQYP_VwH",
        "outputId": "8860d615-d805-44f7-d182-256a66de0250"
      },
      "source": [
        "### ACF of residual data (stationary component)\n",
        "plot_acf(result.resid[20:8200], lags = 120)\n",
        "plt.show()"
      ],
      "execution_count": 98,
      "outputs": [
        {
          "output_type": "display_data",
          "data": {
            "image/png": "[encoded data removed]",
            "text/plain": [
              "<Figure size 432x288 with 1 Axes>"
            ]
          },
          "metadata": {
            "tags": [],
            "needs_background": "light"
          }
        }
      ]
    },
    {
      "cell_type": "code",
      "metadata": {
        "colab": {
          "base_uri": "https://localhost:8080/",
          "height": 283
        },
        "id": "XOHSDdlEyXIM",
        "outputId": "4eec5278-a2bc-493d-e3df-7118322d92b8"
      },
      "source": [
        "plt.plot(result.seasonal[3:120])"
      ],
      "execution_count": 107,
      "outputs": [
        {
          "output_type": "execute_result",
          "data": {
            "text/plain": [
              "[<matplotlib.lines.Line2D at 0x7ff5c3a99fd0>]"
            ]
          },
          "metadata": {
            "tags": []
          },
          "execution_count": 107
        },
        {
          "output_type": "display_data",
          "data": {
            "image/png": "[encoded data removed]",
            "text/plain": [
              "<Figure size 432x288 with 1 Axes>"
            ]
          },
          "metadata": {
            "tags": [],
            "needs_background": "light"
          }
        }
      ]
    },
    {
      "cell_type": "code",
      "metadata": {
        "id": "zoZBAoiR1A3z"
      },
      "source": [
        "### Pre-processing the Data to be fed into the model\n",
        "model_data = pd.DataFrame()\n",
        "data.columns = list(range(14))\n",
        "for i in range(13):\n",
        "  x = data[[0,i+1]]\n",
        "  x = x.set_index(0)\n",
        "  res = seasonal_decompose(x , model='additive').observed\n",
        "  model_data = pd.concat([model_data,res] , axis = 1)\n",
        "\n",
        "model_data.dropna(inplace = True)\n",
        "\n",
        "lagged_data = pd.DataFrame()\n",
        "lag = 50\n",
        "for i in range(lag+1):\n",
        "  lagged_data = pd.concat([model_data.shift(i),lagged_data] , axis = 1 )\n",
        "\n",
        "lagged_data.columns = list(range(0,13*lag+13))\n",
        "lagged_data.dropna(inplace = True)\n",
        "X = lagged_data[list(range(0,lag*13))]\n",
        "Y = lagged_data[list(range(lag*13 +10,lag*13 +13))]\n",
        "\n",
        "lim = int(X.shape[0]*0.8)\n",
        "trainXdf = X[0:lim]\n",
        "testXdf = X[lim:]\n",
        "\n",
        "trainYdf = Y[0:lim]\n",
        "testYdf = Y[lim:]\n",
        "\n",
        "\n",
        "trainX = trainXdf.to_numpy()\n",
        "trainY = trainYdf.to_numpy()\n",
        "testX = testXdf.to_numpy()\n",
        "testY = testYdf.to_numpy()\n",
        "\n",
        "mean = trainX.mean(axis=0).reshape((1, -1))\n",
        "std = trainX.std(axis=0).reshape((1, -1))\n",
        "\n",
        "trainX = (trainX - mean) / std\n",
        "testX = (testX - mean) / std"
      ],
      "execution_count": 101,
      "outputs": []
    },
    {
      "cell_type": "code",
      "metadata": {
        "colab": {
          "base_uri": "https://localhost:8080/"
        },
        "id": "EiR17M2KljIa",
        "outputId": "dd2add7d-c392-46b1-f9f3-1c50720fc3fa"
      },
      "source": [
        "y_pred_test = pd.DataFrame()\n",
        "y_pred_train = pd.DataFrame()\n",
        "\n",
        "svr = SVR(epsilon = 0.2, kernel='rbf' , C = 20  )\n",
        "\n",
        "svr.fit(trainX, trainY[:,0])\n",
        "print(\"train score:\",svr.score(trainX , trainY[:,0]) ,\" test score:\" ,svr.score(testX , testY[:,0])) "
      ],
      "execution_count": 105,
      "outputs": [
        {
          "output_type": "stream",
          "text": [
            "train score: 0.889695528524618  test score: 0.9112125389536888\n"
          ],
          "name": "stdout"
        }
      ]
    },
    {
      "cell_type": "code",
      "metadata": {
        "id": "pm_CwmAZ45Bs"
      },
      "source": [
        "y_pred_train = svr.predict(trainX)\n",
        "y_pred_test = svr.predict(testX)"
      ],
      "execution_count": 106,
      "outputs": []
    },
    {
      "cell_type": "code",
      "metadata": {
        "colab": {
          "base_uri": "https://localhost:8080/",
          "height": 299
        },
        "id": "nx2a6CNDVmgr",
        "outputId": "a6050e35-1cef-4cd5-e7ca-09be900c63ec"
      },
      "source": [
        "plt.figure()\n",
        "plt.title(\"SVR Performance on Test Set for Stationary Component\")\n",
        "plt.plot(testY[:,0] , label='Test') \n",
        "plt.plot(y_pred_test , color ='red',label='Predicted')\n",
        "plt.legend()\n",
        "plt.xlim([0,240])\n",
        "plt.ylim([-50,50])"
      ],
      "execution_count": 107,
      "outputs": [
        {
          "output_type": "execute_result",
          "data": {
            "text/plain": [
              "(-50.0, 50.0)"
            ]
          },
          "metadata": {
            "tags": []
          },
          "execution_count": 107
        },
        {
          "output_type": "display_data",
          "data": {
            "image/png": "[encoded data removed]",
            "text/plain": [
              "<Figure size 432x288 with 1 Axes>"
            ]
          },
          "metadata": {
            "tags": [],
            "needs_background": "light"
          }
        }
      ]
    },
    {
      "cell_type": "code",
      "metadata": {
        "colab": {
          "base_uri": "https://localhost:8080/",
          "height": 299
        },
        "id": "kYSVd3IIPZTS",
        "outputId": "de0760f5-61dd-47d9-a40b-974323a70711"
      },
      "source": [
        "plt.figure()\n",
        "plt.title(\"SVR Performance on Train Set for Stationary Component\")\n",
        "plt.plot(trainY[:,0] , label='Train') \n",
        "plt.plot(y_pred_train , color ='red',label='Predicted')\n",
        "plt.legend()\n",
        "plt.xlim([0,240])\n",
        "plt.ylim([-50,50])"
      ],
      "execution_count": 108,
      "outputs": [
        {
          "output_type": "execute_result",
          "data": {
            "text/plain": [
              "(-50.0, 50.0)"
            ]
          },
          "metadata": {
            "tags": []
          },
          "execution_count": 108
        },
        {
          "output_type": "display_data",
          "data": {
            "image/png": "[encoded data removed]",
            "text/plain": [
              "<Figure size 432x288 with 1 Axes>"
            ]
          },
          "metadata": {
            "tags": [],
            "needs_background": "light"
          }
        }
      ]
    },
    {
      "cell_type": "code",
      "metadata": {
        "colab": {
          "base_uri": "https://localhost:8080/"
        },
        "id": "G97Lxt4-13q8",
        "outputId": "a6a2483a-f7ac-48a0-891e-d45c2f5959f0"
      },
      "source": [
        "mae = mean_absolute_error(trainY[:, 0], y_pred_train)\n",
        "print(\"Train MAE:\",mae)"
      ],
      "execution_count": 109,
      "outputs": [
        {
          "output_type": "stream",
          "text": [
            "Train MAE: 2.0957391533586116\n"
          ],
          "name": "stdout"
        }
      ]
    },
    {
      "cell_type": "code",
      "metadata": {
        "colab": {
          "base_uri": "https://localhost:8080/"
        },
        "id": "PN1GXkq614YT",
        "outputId": "8de76bdc-4724-49ed-ef88-cfde515518b5"
      },
      "source": [
        "mae = mean_absolute_error(testY[:, 0], y_pred_test)\n",
        "print(\"Test MAE:\",mae)"
      ],
      "execution_count": 110,
      "outputs": [
        {
          "output_type": "stream",
          "text": [
            "Test MAE: 3.7397167472850668\n"
          ],
          "name": "stdout"
        }
      ]
    },
    {
      "cell_type": "code",
      "metadata": {
        "colab": {
          "base_uri": "https://localhost:8080/"
        },
        "id": "DGS1EvpygqhA",
        "outputId": "3e42cbc6-0027-4acd-b77b-5afd3389ce2f"
      },
      "source": [
        "### Applying SVR using GridSearchCV for selecting hyperparameters and predicting the next values of all the 3 series for train and test set\n",
        "\n",
        "y_pred_test = pd.DataFrame()\n",
        "y_pred_train = pd.DataFrame()\n",
        "params = [{'kernel': ['rbf',], 'gamma': [1,0.1,0.001], 'C': [1,20,100]}]\n",
        "\n",
        "for i in range(3):\n",
        "   \n",
        "    \n",
        "    lim = int(X.shape[0]*0.8)\n",
        "    trainXdf = X[0:lim]\n",
        "    testXdf = X[lim:]\n",
        "\n",
        "    trainYdf = Y[0:lim]\n",
        "    testYdf = Y[lim:]\n",
        "\n",
        "\n",
        "    trainX = trainXdf.to_numpy()\n",
        "    trainY = trainYdf.to_numpy()\n",
        "    testX = testXdf.to_numpy()\n",
        "    testY = testYdf.to_numpy()\n",
        "\n",
        "    mean = trainX.mean(axis=0).reshape((1, -1))\n",
        "    std = trainX.std(axis=0).reshape((1, -1))\n",
        "\n",
        "    trainX = (trainX - mean) / std\n",
        "    testX = (testX - mean) / std\n",
        "\n",
        "    gs = GridSearchCV(SVR(), params ,n_jobs=-1 )\n",
        "    gs.fit(trainX, trainY[:,i])\n",
        "\n",
        "    svr = gs.best_estimator_\n",
        "\n",
        "    svr.fit(trainX, trainY[:,i])\n",
        "    pred = pd.DataFrame(svr.predict(testX))\n",
        "    y_pred_test = pd.concat([y_pred_test,pred], axis=1)\n",
        "    pred = pd.DataFrame(svr.predict(trainX))\n",
        "    y_pred_train = pd.concat([y_pred_train,pred], axis=1)\n",
        "    if i == 0:\n",
        "      txt = \"T\"\n",
        "    if i==1:\n",
        "      txt=\"RH\"\n",
        "    if i==2:\n",
        "      txt=\"AH\"\n",
        "    print(txt,\" best params:\", gs.best_params_ )\n",
        "    print(txt,\" best score:\", gs.best_score_ )\n",
        "    print(txt,\" train score:\",svr.score(trainX , trainY[:,i]) ,\" test score:\" ,svr.score(testX , testY[:,i])) \n"
      ],
      "execution_count": 46,
      "outputs": [
        {
          "output_type": "stream",
          "text": [
            "T  best params: {'C': 20, 'gamma': 0.001, 'kernel': 'rbf'}\n",
            "T  best score: 0.7251854459334865\n",
            "T  train score: 0.8948543934663634  test score: 0.925578163085682\n",
            "RH  best params: {'C': 100, 'gamma': 0.001, 'kernel': 'rbf'}\n",
            "RH  best score: 0.8261010351674754\n",
            "RH  train score: 0.9136349246681461  test score: 0.93165119391227\n",
            "AH  best params: {'C': 20, 'gamma': 0.001, 'kernel': 'rbf'}\n",
            "AH  best score: 0.6382846581758651\n",
            "AH  train score: 0.891654078071825  test score: 0.9238232444018477\n"
          ],
          "name": "stdout"
        }
      ]
    },
    {
      "cell_type": "code",
      "metadata": {
        "colab": {
          "base_uri": "https://localhost:8080/"
        },
        "id": "itQ7QnqlgxCT",
        "outputId": "64916177-8724-4454-bd72-039fc0f8e23a"
      },
      "source": [
        "mae_test = 0 \n",
        "mae_train = 0\n",
        "for i in range(3):\n",
        "  mae_test = mae_test+ mean_absolute_error(testY[:, i], y_pred_test.iloc[:,i])\n",
        "  mae_train = mae_train+ mean_absolute_error(trainY[:, i], y_pred_train.iloc[:,i])\n",
        "print(\"Test MAE:\",mae_test/3,\" , Train MAE\",mae_train/3 )"
      ],
      "execution_count": 48,
      "outputs": [
        {
          "output_type": "stream",
          "text": [
            "Test MAE: 2.5250953031693126  , Train MAE 2.2384718441699913\n"
          ],
          "name": "stdout"
        }
      ]
    },
    {
      "cell_type": "code",
      "metadata": {
        "id": "oAYlP8riAGh8"
      },
      "source": [
        "trainX = trainX.reshape((trainX.shape[0], lag, 13))\n",
        "testX = testX.reshape((testX.shape[0], lag, 13))\n",
        "model = Sequential()\n",
        "model.add(LSTM(50, input_shape=(trainX.shape[1], trainX.shape[2])))\n",
        "model.add(Dense(1))\n",
        "model.compile(loss='mae', optimizer='adam')\n",
        "history = model.fit(trainX, trainY[:, 0], epochs=50, batch_size=72, validation_data=(testX, testY[:, 0]), verbose=0, shuffle=False)"
      ],
      "execution_count": 111,
      "outputs": []
    },
    {
      "cell_type": "code",
      "metadata": {
        "colab": {
          "base_uri": "https://localhost:8080/",
          "height": 299
        },
        "id": "G5l2AhbuAVCt",
        "outputId": "7f347199-ea2a-474c-a92e-951a6b8fcdc9"
      },
      "source": [
        "y_pred_train = model.predict(trainX)\n",
        "\n",
        "plt.figure()\n",
        "plt.plot(trainY[:,0] , label='Train') \n",
        "plt.title(\"LSTM Performance on Train Set for Non Stationary Data \")\n",
        "plt.plot(y_pred_train , color ='red',label='Predicted')\n",
        "plt.legend()\n",
        "plt.xlim([0,240])\n",
        "plt.ylim([-50,50])\n"
      ],
      "execution_count": 112,
      "outputs": [
        {
          "output_type": "execute_result",
          "data": {
            "text/plain": [
              "(-50.0, 50.0)"
            ]
          },
          "metadata": {
            "tags": []
          },
          "execution_count": 112
        },
        {
          "output_type": "display_data",
          "data": {
            "image/png": "[encoded data removed]",
            "text/plain": [
              "<Figure size 432x288 with 1 Axes>"
            ]
          },
          "metadata": {
            "tags": [],
            "needs_background": "light"
          }
        }
      ]
    },
    {
      "cell_type": "code",
      "metadata": {
        "colab": {
          "base_uri": "https://localhost:8080/",
          "height": 299
        },
        "id": "J_Sw7v7vAbzd",
        "outputId": "e6b07ead-0136-45c0-d114-2c6ad38da684"
      },
      "source": [
        "y_pred_test = model.predict(testX)\n",
        "\n",
        "plt.figure()\n",
        "plt.title(\"LSTM Performance on Test Set for Non Stationary Data \")\n",
        "plt.plot(testY[:,0] , label='Test' ) \n",
        "plt.plot(y_pred_test , color ='red',label='Predicted')\n",
        "plt.legend()\n",
        "plt.xlim([0,240])\n",
        "plt.ylim([-50,50])\n"
      ],
      "execution_count": 113,
      "outputs": [
        {
          "output_type": "execute_result",
          "data": {
            "text/plain": [
              "(-50.0, 50.0)"
            ]
          },
          "metadata": {
            "tags": []
          },
          "execution_count": 113
        },
        {
          "output_type": "display_data",
          "data": {
            "image/png": "[encoded data removed]",
            "text/plain": [
              "<Figure size 432x288 with 1 Axes>"
            ]
          },
          "metadata": {
            "tags": [],
            "needs_background": "light"
          }
        }
      ]
    },
    {
      "cell_type": "code",
      "metadata": {
        "id": "82pkk5bh8S3g"
      },
      "source": [
        "mae = mean_absolute_error(testY[:, 0], y_pred_test)\n",
        "print(\"Test MAE:\",mae)"
      ],
      "execution_count": null,
      "outputs": []
    },
    {
      "cell_type": "code",
      "metadata": {
        "id": "QDkVAXop8WD4"
      },
      "source": [
        "mae = mean_absolute_error(trainY[:, 0], y_pred_train)\n",
        "print(\"Train MAE:\",mae)"
      ],
      "execution_count": null,
      "outputs": []
    },
    {
      "cell_type": "code",
      "metadata": {
        "colab": {
          "base_uri": "https://localhost:8080/"
        },
        "id": "loTeULOphIMN",
        "outputId": "c65ee2df-eafb-4a59-caf7-abf30c104556"
      },
      "source": [
        "### Reshaping the input to be fed into LSTM in the form of (number of samples , number of timesteps , number of features per timesetep)\n",
        "\n",
        "trainX = trainX.reshape((trainX.shape[0], lag, 13))\n",
        "testX = testX.reshape((testX.shape[0], lag, 13))\n",
        "y_pred_test = pd.DataFrame()\n",
        "y_pred_train = pd.DataFrame()\n",
        "\n",
        "#### Applying LSTM to the 50 time series and predicting the next timestep values for train and test set\n",
        "\n",
        "for i in range(3):\n",
        "    model = Sequential()\n",
        "    model.add(LSTM(100, input_shape=(trainX.shape[1], trainX.shape[2])))\n",
        "    model.add(Dense(1))\n",
        "    model.compile(loss='mae', optimizer='adam')\n",
        "    history = model.fit(trainX, trainY[:, i], epochs=50, batch_size=64, validation_data=(testX, testY[:, i]), verbose=0, shuffle=False)\n",
        "    pred = pd.DataFrame(model.predict(testX))\n",
        "    y_pred_test = pd.concat([y_pred_test,pred], axis=1)\n",
        "    pred = pd.DataFrame(model.predict(trainX))\n",
        "    y_pred_train = pd.concat([y_pred_train,pred], axis=1)\n",
        "    if i == 0:\n",
        "      txt = \"T\"\n",
        "    if i==1:\n",
        "      txt=\"RH\"\n",
        "    if i==2:\n",
        "      txt=\"AH\"\n",
        "    print(txt,\"Train score\", model.evaluate(trainX,trainY[:,i]) , \"Test Score :\",model.evaluate(testX,testY[:,i]))\n",
        "    "
      ],
      "execution_count": 51,
      "outputs": [
        {
          "output_type": "stream",
          "text": [
            "234/234 [==============================] - 1s 4ms/step - loss: 8.4461\n",
            "59/59 [==============================] - 0s 4ms/step - loss: 7.8122\n",
            "T Train score 8.446118354797363 Test Score : 7.8122406005859375\n",
            "234/234 [==============================] - 1s 4ms/step - loss: 8.9644\n",
            "59/59 [==============================] - 0s 4ms/step - loss: 8.7487\n",
            "RH Train score 8.964377403259277 Test Score : 8.748702049255371\n",
            "234/234 [==============================] - 1s 4ms/step - loss: 2.4254\n",
            "59/59 [==============================] - 0s 4ms/step - loss: 2.6987\n",
            "AH Train score 2.425415515899658 Test Score : 2.698676586151123\n"
          ],
          "name": "stdout"
        }
      ]
    },
    {
      "cell_type": "code",
      "metadata": {
        "colab": {
          "base_uri": "https://localhost:8080/"
        },
        "id": "sXPX1le0hR92",
        "outputId": "18ab3adb-67f2-43d2-d03f-89f93c9adc2b"
      },
      "source": [
        "mae_test = 0 \n",
        "mae_train = 0\n",
        "for i in range(3):\n",
        "  mae_test = mae_test+ mean_absolute_error(testY[:, i], y_pred_test.iloc[:,i])\n",
        "  mae_train = mae_train+ mean_absolute_error(trainY[:, i], y_pred_train.iloc[:,i])\n",
        "print(\"Test MAE:\",mae_test/3,\" , Train MAE\",mae_train/3 )"
      ],
      "execution_count": 53,
      "outputs": [
        {
          "output_type": "stream",
          "text": [
            "Test MAE: 6.419872773506458  , Train MAE 6.61197094815859\n"
          ],
          "name": "stdout"
        }
      ]
    }
  ]
}